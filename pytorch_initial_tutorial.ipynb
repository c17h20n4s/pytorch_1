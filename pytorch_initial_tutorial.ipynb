{
  "cells": [
    {
      "cell_type": "markdown",
      "metadata": {
        "id": "view-in-github",
        "colab_type": "text"
      },
      "source": [
        "<a href=\"https://colab.research.google.com/github/c17h20n4s/pytorch_1/blob/main/pytorch_initial_tutorial.ipynb\" target=\"_parent\"><img src=\"https://colab.research.google.com/assets/colab-badge.svg\" alt=\"Open In Colab\"/></a>"
      ]
    },
    {
      "cell_type": "code",
      "execution_count": null,
      "metadata": {
        "id": "cj0WiBVD1_7V"
      },
      "outputs": [],
      "source": [
        "# For tips on running notebooks in Google Colab, see\n",
        "# https://docs.pytorch.org/tutorials/beginner/colab\n",
        "%matplotlib inline"
      ]
    },
    {
      "cell_type": "markdown",
      "metadata": {
        "id": "HiPlBnMk1_7W"
      },
      "source": [
        "**Learn the Basics** \\|\\| [Quickstart](quickstart_tutorial.html) \\|\\|\n",
        "[Tensors](tensorqs_tutorial.html) \\|\\| [Datasets &\n",
        "DataLoaders](data_tutorial.html) \\|\\|\n",
        "[Transforms](transforms_tutorial.html) \\|\\| [Build\n",
        "Model](buildmodel_tutorial.html) \\|\\|\n",
        "[Autograd](autogradqs_tutorial.html) \\|\\|\n",
        "[Optimization](optimization_tutorial.html) \\|\\| [Save & Load\n",
        "Model](saveloadrun_tutorial.html)\n",
        "\n",
        "Learn the Basics\n",
        "================\n",
        "\n",
        "Authors: [Suraj Subramanian](https://github.com/subramen), [Seth\n",
        "Juarez](https://github.com/sethjuarez/), [Cassie\n",
        "Breviu](https://github.com/cassiebreviu/), [Dmitry\n",
        "Soshnikov](https://soshnikov.com/), [Ari\n",
        "Bornstein](https://github.com/aribornstein/)\n",
        "\n",
        "Most machine learning workflows involve working with data, creating\n",
        "models, optimizing model parameters, and saving the trained models. This\n",
        "tutorial introduces you to a complete ML workflow implemented in\n",
        "PyTorch, with links to learn more about each of these concepts.\n",
        "\n",
        "We\\'ll use the FashionMNIST dataset to train a neural network that\n",
        "predicts if an input image belongs to one of the following classes:\n",
        "T-shirt/top, Trouser, Pullover, Dress, Coat, Sandal, Shirt, Sneaker,\n",
        "Bag, or Ankle boot.\n",
        "\n",
        "[This tutorial assumes a basic familiarity with Python and Deep Learning\n",
        "concepts.]{.title-ref}\n",
        "\n",
        "Running the Tutorial Code\n",
        "-------------------------\n",
        "\n",
        "You can run this tutorial in a couple of ways:\n",
        "\n",
        "-   **In the cloud**: This is the easiest way to get started! Each\n",
        "    section has a \\\"Run in Microsoft Learn\\\" and \\\"Run in Google Colab\\\"\n",
        "    link at the top, which opens an integrated notebook in Microsoft\n",
        "    Learn or Google Colab, respectively, with the code in a fully-hosted\n",
        "    environment.\n",
        "-   **Locally**: This option requires you to setup PyTorch and\n",
        "    TorchVision first on your local machine ([installation\n",
        "    instructions](https://pytorch.org/get-started/locally/)). Download\n",
        "    the notebook or copy the code into your favorite IDE.\n",
        "\n",
        "How to Use this Guide\n",
        "---------------------\n",
        "\n",
        "If you\\'re familiar with other deep learning frameworks, check out the\n",
        "[0. Quickstart](quickstart_tutorial.html) first to quickly familiarize\n",
        "yourself with PyTorch\\'s API.\n",
        "\n",
        "If you\\'re new to deep learning frameworks, head right into the first\n",
        "section of our step-by-step guide: [1. Tensors](tensorqs_tutorial.html).\n",
        "\n",
        "::: {.toctree maxdepth=\"2\" hidden=\"\"}\n",
        "quickstart\\_tutorial tensorqs\\_tutorial data\\_tutorial\n",
        "transforms\\_tutorial buildmodel\\_tutorial autogradqs\\_tutorial\n",
        "optimization\\_tutorial saveloadrun\\_tutorial\n",
        ":::\n"
      ]
    },
    {
      "cell_type": "code",
      "source": [
        "import torch"
      ],
      "metadata": {
        "id": "v1Plzkkw22Ko"
      },
      "execution_count": null,
      "outputs": []
    },
    {
      "cell_type": "code",
      "source": [
        "import numpy as np"
      ],
      "metadata": {
        "id": "Fox3Ovu423Bk"
      },
      "execution_count": null,
      "outputs": []
    },
    {
      "cell_type": "code",
      "source": [
        "data = [[1,2], [3,4]]\n",
        "x = torch.tensor(data)\n",
        "print(x)"
      ],
      "metadata": {
        "colab": {
          "base_uri": "https://localhost:8080/"
        },
        "id": "os-37YnS25J2",
        "outputId": "67788b11-c37b-4880-ff4d-6680db8ca063"
      },
      "execution_count": null,
      "outputs": [
        {
          "output_type": "stream",
          "name": "stdout",
          "text": [
            "tensor([[1, 2],\n",
            "        [3, 4]])\n"
          ]
        }
      ]
    },
    {
      "cell_type": "code",
      "source": [
        "shape = (2,3 )\n",
        "rand_tensor = torch.rand(shape)\n",
        "ones_tensor = torch.ones(shape)\n",
        "zeros_tensor = torch.zeros(shape)"
      ],
      "metadata": {
        "id": "X_D7sDKs3HwO"
      },
      "execution_count": null,
      "outputs": []
    },
    {
      "cell_type": "code",
      "source": [
        "print(f\"\\n Random tensors: {rand_tensor}\")"
      ],
      "metadata": {
        "colab": {
          "base_uri": "https://localhost:8080/"
        },
        "id": "Ad0xAAeK38YU",
        "outputId": "57b80d04-7776-4068-ec93-3d4d32507a9f"
      },
      "execution_count": null,
      "outputs": [
        {
          "output_type": "stream",
          "name": "stdout",
          "text": [
            "\n",
            " Random tensors: tensor([[0.9089, 0.0642, 0.4198],\n",
            "        [0.0183, 0.6469, 0.4808]])\n"
          ]
        }
      ]
    },
    {
      "cell_type": "code",
      "source": [
        "print(f\"\\n Ones tensor: {ones_tensor}\")"
      ],
      "metadata": {
        "colab": {
          "base_uri": "https://localhost:8080/"
        },
        "id": "bPtrszYS4Dsj",
        "outputId": "394349a8-dab6-4baf-da16-271e6e18a13c"
      },
      "execution_count": null,
      "outputs": [
        {
          "output_type": "stream",
          "name": "stdout",
          "text": [
            "\n",
            " Ones tensor: tensor([[1., 1., 1.],\n",
            "        [1., 1., 1.]])\n"
          ]
        }
      ]
    },
    {
      "cell_type": "code",
      "source": [
        "print(f\"\\n Zeros tensor: {zeros_tensor}\")"
      ],
      "metadata": {
        "colab": {
          "base_uri": "https://localhost:8080/"
        },
        "id": "rzrZa1-Z4njo",
        "outputId": "41642a15-1482-4d31-e93c-28e1cd059b52"
      },
      "execution_count": null,
      "outputs": [
        {
          "output_type": "stream",
          "name": "stdout",
          "text": [
            "\n",
            " Zeros tensor: tensor([[0., 0., 0.],\n",
            "        [0., 0., 0.]])\n"
          ]
        }
      ]
    },
    {
      "cell_type": "markdown",
      "source": [
        "## Attributes of Tensor"
      ],
      "metadata": {
        "id": "YEsDndG95h4u"
      }
    },
    {
      "cell_type": "code",
      "source": [
        "tensor = torch.rand(3,5)"
      ],
      "metadata": {
        "id": "DbKFf6xH5re7"
      },
      "execution_count": null,
      "outputs": []
    },
    {
      "cell_type": "code",
      "source": [
        "print(tensor.shape)\n",
        "print(tensor.dtype)\n",
        "print(tensor.device)"
      ],
      "metadata": {
        "colab": {
          "base_uri": "https://localhost:8080/"
        },
        "id": "II1-4MRj5fQV",
        "outputId": "d8ad34a1-8b7e-4edf-a30e-82fd18f4a8e8"
      },
      "execution_count": null,
      "outputs": [
        {
          "output_type": "stream",
          "name": "stdout",
          "text": [
            "torch.Size([3, 5])\n",
            "torch.float32\n",
            "cpu\n"
          ]
        }
      ]
    },
    {
      "cell_type": "markdown",
      "source": [
        "## Operations on tensors (or should I say - manipulations of tensors)"
      ],
      "metadata": {
        "id": "EI5SQlCE6Cah"
      }
    },
    {
      "cell_type": "code",
      "source": [
        "if torch.accelerator.is_available():\n",
        "  tensor = tensor.to(torch.accelerator.current_accelerator())"
      ],
      "metadata": {
        "id": "xCk72m-w6ot8"
      },
      "execution_count": null,
      "outputs": []
    },
    {
      "cell_type": "markdown",
      "source": [
        "## Standart numpy slicing"
      ],
      "metadata": {
        "id": "SGV0QRBr7FrI"
      }
    },
    {
      "cell_type": "code",
      "source": [
        "tensor = torch.rand(3,4)\n",
        "tensor[0,3] = 5\n",
        "print(tensor)"
      ],
      "metadata": {
        "colab": {
          "base_uri": "https://localhost:8080/"
        },
        "id": "YiVzz-wG7ISE",
        "outputId": "d82fe8af-cdd4-4f34-fa4f-5fa5ae14bba3"
      },
      "execution_count": null,
      "outputs": [
        {
          "output_type": "stream",
          "name": "stdout",
          "text": [
            "tensor([[0.6852, 0.7241, 0.9130, 5.0000],\n",
            "        [0.0656, 0.5675, 0.5021, 0.6093],\n",
            "        [0.5422, 0.7525, 0.7748, 0.7824]])\n"
          ]
        }
      ]
    },
    {
      "cell_type": "markdown",
      "source": [
        "## Adding"
      ],
      "metadata": {
        "id": "cj3-NP2X8Eba"
      }
    },
    {
      "cell_type": "code",
      "source": [
        "t1 = torch.cat([tensor, tensor, tensor], dim=1)\n",
        "print(t1)"
      ],
      "metadata": {
        "colab": {
          "base_uri": "https://localhost:8080/"
        },
        "id": "dFi_Cm807NSf",
        "outputId": "3ef59675-e887-4161-914b-4bb705efe380"
      },
      "execution_count": null,
      "outputs": [
        {
          "output_type": "stream",
          "name": "stdout",
          "text": [
            "tensor([[0.6852, 0.7241, 0.9130, 5.0000, 0.6852, 0.7241, 0.9130, 5.0000, 0.6852,\n",
            "         0.7241, 0.9130, 5.0000],\n",
            "        [0.0656, 0.5675, 0.5021, 0.6093, 0.0656, 0.5675, 0.5021, 0.6093, 0.0656,\n",
            "         0.5675, 0.5021, 0.6093],\n",
            "        [0.5422, 0.7525, 0.7748, 0.7824, 0.5422, 0.7525, 0.7748, 0.7824, 0.5422,\n",
            "         0.7525, 0.7748, 0.7824]])\n"
          ]
        }
      ]
    },
    {
      "cell_type": "markdown",
      "source": [
        "## Matrix multiplications"
      ],
      "metadata": {
        "id": "9aKK2OzZ9AzY"
      }
    },
    {
      "cell_type": "code",
      "source": [
        "y1 = tensor @ tensor.T\n",
        "y2 = tensor.matmul(tensor.T)\n",
        "\n",
        "y3 = torch.rand_like(y1)\n",
        "torch.matmul(tensor, tensor.T, out=y3)"
      ],
      "metadata": {
        "colab": {
          "base_uri": "https://localhost:8080/"
        },
        "id": "CNQKBwwn8oLM",
        "outputId": "ea5b7ce8-12e1-4c99-aaae-640af4ac8283"
      },
      "execution_count": null,
      "outputs": [
        {
          "output_type": "execute_result",
          "data": {
            "text/plain": [
              "tensor([[26.8273,  3.9609,  5.5354],\n",
              "        [ 3.9609,  0.9497,  1.3283],\n",
              "        [ 5.5354,  1.3283,  2.0725]])"
            ]
          },
          "metadata": {},
          "execution_count": 62
        }
      ]
    },
    {
      "cell_type": "markdown",
      "source": [
        "## okaaaay, lets gooo"
      ],
      "metadata": {
        "id": "F4kYyhiz9mDD"
      }
    },
    {
      "cell_type": "markdown",
      "source": [
        "## MNIST Fashion dataset check"
      ],
      "metadata": {
        "id": "0UBF8K58_E04"
      }
    },
    {
      "cell_type": "code",
      "source": [
        "import torch\n",
        "from torch.utils.data import Dataset\n",
        "from torchvision import datasets\n",
        "from torchvision.transforms import ToTensor\n",
        "import matplotlib.pyplot as plt\n",
        "%matplotlib inline"
      ],
      "metadata": {
        "id": "FdI1wVQJ9Ma-"
      },
      "execution_count": null,
      "outputs": []
    },
    {
      "cell_type": "code",
      "source": [
        "training_data = datasets.FashionMNIST(\n",
        "    root=\"data\",\n",
        "    train=True,\n",
        "    download=True,\n",
        "    transform=ToTensor()\n",
        ")\n"
      ],
      "metadata": {
        "colab": {
          "base_uri": "https://localhost:8080/"
        },
        "id": "cLlCyNnM9_T8",
        "outputId": "a18641e1-20fe-479e-9db2-c4c09e8cf5d3"
      },
      "execution_count": null,
      "outputs": [
        {
          "output_type": "stream",
          "name": "stderr",
          "text": [
            "100%|██████████| 26.4M/26.4M [00:01<00:00, 16.1MB/s]\n",
            "100%|██████████| 29.5k/29.5k [00:00<00:00, 270kB/s]\n",
            "100%|██████████| 4.42M/4.42M [00:00<00:00, 5.01MB/s]\n",
            "100%|██████████| 5.15k/5.15k [00:00<00:00, 30.8MB/s]\n"
          ]
        }
      ]
    },
    {
      "cell_type": "code",
      "source": [
        "test_data = datasets.FashionMNIST(\n",
        "    root=\"data\",\n",
        "    train=False,\n",
        "    download=True,\n",
        "    transform=ToTensor()\n",
        ")"
      ],
      "metadata": {
        "id": "vKWVg3mk-slb"
      },
      "execution_count": null,
      "outputs": []
    },
    {
      "cell_type": "markdown",
      "source": [
        "### Labeling"
      ],
      "metadata": {
        "id": "v22bfpeO_Crt"
      }
    },
    {
      "cell_type": "code",
      "source": [
        "labels_map = {\n",
        "    0: \"T-Shirt\",\n",
        "    1: \"Trouser\",\n",
        "    2: \"Pullover\",\n",
        "    3: \"Dress\",\n",
        "    4: \"Coat\",\n",
        "    5: \"Sandal\",\n",
        "    6: \"Shirt\",\n",
        "    7: \"Sneaker\",\n",
        "    8: \"Bag\",\n",
        "    9: \"Ankle Boot\",\n",
        "}\n",
        "\n",
        "figure= plt.figure(figsize=(8, 8))\n",
        "cols, rows = 3, 3\n",
        "for i in range(1, cols * rows + 1):\n",
        "    sample_idx = torch.randint(len(training_data), size=(1,)).item()\n",
        "    img, label = training_data[sample_idx]\n",
        "    figure.add_subplot(rows, cols, i)\n",
        "    plt.title(labels_map[label])\n",
        "    plt.axis(\"off\")\n",
        "    plt.imshow(img.squeeze(), cmap=\"gray\")\n",
        "plt.show()"
      ],
      "metadata": {
        "colab": {
          "base_uri": "https://localhost:8080/",
          "height": 675
        },
        "id": "i3hvflKd-8va",
        "outputId": "1fb23727-f460-471e-8443-16f193d803eb"
      },
      "execution_count": null,
      "outputs": [
        {
          "output_type": "display_data",
          "data": {
            "text/plain": [
              "<Figure size 800x800 with 9 Axes>"
            ],
            "image/png": "[encoded data removed]"
          },
          "metadata": {}
        }
      ]
    },
    {
      "cell_type": "code",
      "source": [
        "import os\n",
        "import pandas as pd\n",
        "from torchvision.io import decode_image\n",
        "\n",
        "class CustomImageDataset(Dataset):\n",
        "    def __init__(self, annotations_file, img_dir, transform=None, target_transform=None):\n",
        "        self.img_labels = pd.read_csv(annotations_file)\n",
        "        self.img_dir = img_dir\n",
        "        self.transform = transform\n",
        "        self.target_transform = target_transform\n",
        "\n",
        "    def __len__(self):\n",
        "        return len(self.img_labels)\n",
        "\n",
        "    def __getitem__(self, idx):\n",
        "        img_path = os.path.join(self.img_dir, self.img_labels.iloc[idx, 0])\n",
        "        image = decode_image(img_path)\n",
        "        label = self.img_labels.iloc[idx, 1]\n",
        "        if self.transform:\n",
        "            image = self.transform(image)\n",
        "        if self.target_transform:\n",
        "            label = self.target_transform(label)\n",
        "        return image, label"
      ],
      "metadata": {
        "id": "qg6Ut61bDP3U"
      },
      "execution_count": null,
      "outputs": []
    },
    {
      "cell_type": "code",
      "source": [
        "def __init__(self, annotations_file, img_dir, transform=None, target_transform=None):\n",
        "    self.img_labels = pd.read_csv(annotations_file)\n",
        "    self.img_dir = img_dir\n",
        "    self.transform = transform\n",
        "    self.target_transform = target_transform"
      ],
      "metadata": {
        "id": "nO7vZiPBDSSf"
      },
      "execution_count": null,
      "outputs": []
    },
    {
      "cell_type": "code",
      "source": [
        "def __getitem__(self, idx):\n",
        "    img_path = os.path.join(self.img_dir, self.img_labels.iloc[idx, 0])\n",
        "    image = decode_image(img_path)\n",
        "    label = self.img_labels.iloc[idx, 1]\n",
        "    if self.transform:\n",
        "        image = self.transform(image)\n",
        "    if self.target_transform:\n",
        "        label = self.target_transform(label)\n",
        "    return image, label"
      ],
      "metadata": {
        "id": "EtVMNHynDUmx"
      },
      "execution_count": null,
      "outputs": []
    },
    {
      "cell_type": "code",
      "source": [
        "from torch.utils.data import DataLoader\n",
        "\n",
        "train_dataloader = DataLoader(training_data, batch_size=64, shuffle=True)\n",
        "test_dataloader = DataLoader(test_data, batch_size=64, shuffle=True)"
      ],
      "metadata": {
        "id": "Ffr_RqTACq9P"
      },
      "execution_count": null,
      "outputs": []
    },
    {
      "cell_type": "code",
      "source": [
        "# Display image and label.\n",
        "train_features, train_labels = next(iter(train_dataloader))\n",
        "print(f\"Feature batch shape: {train_features.size()}\")\n",
        "print(f\"Labels batch shape: {train_labels.size()}\")\n",
        "img = train_features[0].squeeze()\n",
        "label = train_labels[0]\n",
        "plt.imshow(img, cmap=\"gray\")\n",
        "plt.show()\n",
        "print(f\"Label: {label}\")"
      ],
      "metadata": {
        "colab": {
          "base_uri": "https://localhost:8080/",
          "height": 484
        },
        "id": "be96hK2sDaXL",
        "outputId": "0f0b3e06-e4a5-4c4e-d429-1c3fd310ff9c"
      },
      "execution_count": null,
      "outputs": [
        {
          "output_type": "stream",
          "name": "stdout",
          "text": [
            "Feature batch shape: torch.Size([64, 1, 28, 28])\n",
            "Labels batch shape: torch.Size([64])\n"
          ]
        },
        {
          "output_type": "display_data",
          "data": {
            "text/plain": [
              "<Figure size 640x480 with 1 Axes>"
            ],
            "image/png": "[encoded data removed]"
          },
          "metadata": {}
        },
        {
          "output_type": "stream",
          "name": "stdout",
          "text": [
            "Label: 7\n"
          ]
        }
      ]
    },
    {
      "cell_type": "markdown",
      "source": [
        "## Transforms"
      ],
      "metadata": {
        "id": "sikmWHmzDehJ"
      }
    },
    {
      "cell_type": "code",
      "source": [
        "import torch\n",
        "from torchvision import datasets\n",
        "from torchvision.transforms import ToTensor, Lambda\n",
        "\n",
        "ds = datasets.FashionMNIST(\n",
        "    root=\"data\",\n",
        "    train=True,\n",
        "    download=True,\n",
        "    transform=ToTensor(),\n",
        "    target_transform=Lambda(lambda y: torch.zeros(10, dtype=torch.float).scatter_(0, torch.tensor(y), value=1))\n",
        ")"
      ],
      "metadata": {
        "id": "xkDdSp2YDgp4"
      },
      "execution_count": null,
      "outputs": []
    },
    {
      "cell_type": "markdown",
      "source": [
        "## Building the model"
      ],
      "metadata": {
        "id": "M-r-KE2zDm34"
      }
    },
    {
      "cell_type": "code",
      "source": [
        "import os\n",
        "import torch\n",
        "from torch import nn\n",
        "from torch.utils.data import DataLoader\n",
        "from torchvision import datasets, transforms"
      ],
      "metadata": {
        "id": "UheYQMlzDobg"
      },
      "execution_count": null,
      "outputs": []
    },
    {
      "cell_type": "code",
      "source": [
        "device = torch.accelerator.current_accelerator().type if torch.accelerator.is_available() else \"cpu\"\n",
        "print(f\"Using {device} device\")"
      ],
      "metadata": {
        "colab": {
          "base_uri": "https://localhost:8080/"
        },
        "id": "pt850c2XDpTl",
        "outputId": "37ceea80-f588-4d7e-ab48-1d405cc979d6"
      },
      "execution_count": null,
      "outputs": [
        {
          "output_type": "stream",
          "name": "stdout",
          "text": [
            "Using cpu device\n"
          ]
        }
      ]
    },
    {
      "cell_type": "code",
      "source": [
        "class NeuralNetwork(nn.Module):\n",
        "    def __init__(self):\n",
        "        super().__init__()\n",
        "        self.flatten = nn.Flatten()\n",
        "        self.linear_relu_stack = nn.Sequential(\n",
        "            nn.Linear(28*28, 512),\n",
        "            nn.ReLU(),\n",
        "            nn.Linear(512, 512),\n",
        "            nn.ReLU(),\n",
        "            nn.Linear(512, 10),\n",
        "        )\n",
        "\n",
        "    def forward(self, x):\n",
        "        x = self.flatten(x)\n",
        "        logits = self.linear_relu_stack(x)\n",
        "        return logits"
      ],
      "metadata": {
        "id": "-eUL_qoUDrmT"
      },
      "execution_count": null,
      "outputs": []
    },
    {
      "cell_type": "code",
      "source": [
        "model = NeuralNetwork().to(device)\n",
        "print(model)"
      ],
      "metadata": {
        "colab": {
          "base_uri": "https://localhost:8080/"
        },
        "id": "IVfeWEi2DttP",
        "outputId": "fae0dec1-f5cd-4b5d-d48a-23f7b1d1149c"
      },
      "execution_count": null,
      "outputs": [
        {
          "output_type": "stream",
          "name": "stdout",
          "text": [
            "NeuralNetwork(\n",
            "  (flatten): Flatten(start_dim=1, end_dim=-1)\n",
            "  (linear_relu_stack): Sequential(\n",
            "    (0): Linear(in_features=784, out_features=512, bias=True)\n",
            "    (1): ReLU()\n",
            "    (2): Linear(in_features=512, out_features=512, bias=True)\n",
            "    (3): ReLU()\n",
            "    (4): Linear(in_features=512, out_features=10, bias=True)\n",
            "  )\n",
            ")\n"
          ]
        }
      ]
    },
    {
      "cell_type": "code",
      "source": [
        "X = torch.rand(1, 28, 28, device=device)\n",
        "logits = model(X)\n",
        "pred_probab = nn.Softmax(dim=1)(logits)\n",
        "y_pred = pred_probab.argmax(1)\n",
        "print(f\"Predicted class: {y_pred}\")"
      ],
      "metadata": {
        "colab": {
          "base_uri": "https://localhost:8080/"
        },
        "id": "A6EgrzDrDxzK",
        "outputId": "ee30276c-c703-4221-d8d6-35b4404178e7"
      },
      "execution_count": null,
      "outputs": [
        {
          "output_type": "stream",
          "name": "stdout",
          "text": [
            "Predicted class: tensor([7])\n"
          ]
        }
      ]
    },
    {
      "cell_type": "markdown",
      "source": [
        "### layers"
      ],
      "metadata": {
        "id": "t7efdV-MD0Jz"
      }
    },
    {
      "cell_type": "code",
      "source": [
        "input_image = torch.rand(3,28,28)\n",
        "print(input_image.size())"
      ],
      "metadata": {
        "colab": {
          "base_uri": "https://localhost:8080/"
        },
        "id": "E801F7ZdD2Gz",
        "outputId": "adbf1f34-de4f-4b74-bbaa-514d0e9fcee6"
      },
      "execution_count": null,
      "outputs": [
        {
          "output_type": "stream",
          "name": "stdout",
          "text": [
            "torch.Size([3, 28, 28])\n"
          ]
        }
      ]
    },
    {
      "cell_type": "code",
      "source": [
        "flatten = nn.Flatten()\n",
        "flat_image = flatten(input_image)\n",
        "print(flat_image.size())"
      ],
      "metadata": {
        "colab": {
          "base_uri": "https://localhost:8080/"
        },
        "id": "iUG1arcYD27o",
        "outputId": "118bd94d-b9e7-4fbf-e7ce-880b16e6bc8e"
      },
      "execution_count": null,
      "outputs": [
        {
          "output_type": "stream",
          "name": "stdout",
          "text": [
            "torch.Size([3, 784])\n"
          ]
        }
      ]
    },
    {
      "cell_type": "code",
      "source": [
        "layer1 = nn.Linear(in_features=28*28, out_features=20)\n",
        "hidden1 = layer1(flat_image)\n",
        "print(hidden1.size())"
      ],
      "metadata": {
        "colab": {
          "base_uri": "https://localhost:8080/"
        },
        "id": "ZG5Pao8gD46n",
        "outputId": "56289b05-e70c-418e-9a8f-7730f06338aa"
      },
      "execution_count": null,
      "outputs": [
        {
          "output_type": "stream",
          "name": "stdout",
          "text": [
            "torch.Size([3, 20])\n"
          ]
        }
      ]
    },
    {
      "cell_type": "code",
      "source": [
        "print(f\"Before ReLU: {hidden1}\\n\\n\")\n",
        "hidden1 = nn.ReLU()(hidden1)\n",
        "print(f\"After ReLU: {hidden1}\")"
      ],
      "metadata": {
        "colab": {
          "base_uri": "https://localhost:8080/"
        },
        "id": "9eHYphdOD75Y",
        "outputId": "16a7d08b-32f2-45cd-d811-32ce3baf37ab"
      },
      "execution_count": null,
      "outputs": [
        {
          "output_type": "stream",
          "name": "stdout",
          "text": [
            "Before ReLU: tensor([[-0.5410, -0.1089, -0.0985,  0.3448, -0.1368,  0.0736,  0.0577,  0.2245,\n",
            "         -0.6506,  0.1426,  0.4933, -0.1526, -0.3701,  0.3075, -0.7287, -0.3218,\n",
            "          0.1977, -0.2936,  0.4214,  0.5369],\n",
            "        [-0.1613,  0.0689, -0.0726,  0.2735, -0.0346, -0.1632,  0.1391,  0.2393,\n",
            "         -0.7974,  0.4844,  0.4289, -0.3787, -0.3393,  0.2033, -0.4479, -0.0608,\n",
            "          0.1941, -0.5644,  0.7477,  0.3335],\n",
            "        [-0.3017, -0.0863, -0.0095,  0.3389, -0.2728, -0.0525,  0.3187,  0.0145,\n",
            "         -0.7915, -0.1442,  0.5755,  0.0026, -0.2749,  0.5448, -0.3993, -0.6146,\n",
            "          0.4370, -0.2311,  0.4372,  0.3765]], grad_fn=<AddmmBackward0>)\n",
            "\n",
            "\n",
            "After ReLU: tensor([[0.0000, 0.0000, 0.0000, 0.3448, 0.0000, 0.0736, 0.0577, 0.2245, 0.0000,\n",
            "         0.1426, 0.4933, 0.0000, 0.0000, 0.3075, 0.0000, 0.0000, 0.1977, 0.0000,\n",
            "         0.4214, 0.5369],\n",
            "        [0.0000, 0.0689, 0.0000, 0.2735, 0.0000, 0.0000, 0.1391, 0.2393, 0.0000,\n",
            "         0.4844, 0.4289, 0.0000, 0.0000, 0.2033, 0.0000, 0.0000, 0.1941, 0.0000,\n",
            "         0.7477, 0.3335],\n",
            "        [0.0000, 0.0000, 0.0000, 0.3389, 0.0000, 0.0000, 0.3187, 0.0145, 0.0000,\n",
            "         0.0000, 0.5755, 0.0026, 0.0000, 0.5448, 0.0000, 0.0000, 0.4370, 0.0000,\n",
            "         0.4372, 0.3765]], grad_fn=<ReluBackward0>)\n"
          ]
        }
      ]
    },
    {
      "cell_type": "code",
      "source": [
        "seq_modules = nn.Sequential(\n",
        "    flatten,\n",
        "    layer1,\n",
        "    nn.ReLU(),\n",
        "    nn.Linear(20, 10)\n",
        ")\n",
        "input_image = torch.rand(3,28,28)\n",
        "logits = seq_modules(input_image)"
      ],
      "metadata": {
        "id": "MK0Z7VFYD-l-"
      },
      "execution_count": null,
      "outputs": []
    },
    {
      "cell_type": "code",
      "source": [
        "softmax = nn.Softmax(dim=1)\n",
        "pred_probab = softmax(logits)"
      ],
      "metadata": {
        "id": "lzcwqFD5EBJM"
      },
      "execution_count": null,
      "outputs": []
    },
    {
      "cell_type": "markdown",
      "source": [
        "### Model parameters"
      ],
      "metadata": {
        "id": "7GPnlI_SEDaZ"
      }
    },
    {
      "cell_type": "code",
      "source": [
        "print(f\"Model structure: {model}\\n\\n\")\n",
        "\n",
        "for name, param in model.named_parameters():\n",
        "    print(f\"Layer: {name} | Size: {param.size()} | Values : {param[:2]} \\n\")"
      ],
      "metadata": {
        "colab": {
          "base_uri": "https://localhost:8080/"
        },
        "id": "IT8Pc6zdEFe0",
        "outputId": "32efbcf8-d027-4151-f0be-f6d623fe5011"
      },
      "execution_count": null,
      "outputs": [
        {
          "output_type": "stream",
          "name": "stdout",
          "text": [
            "Model structure: NeuralNetwork(\n",
            "  (flatten): Flatten(start_dim=1, end_dim=-1)\n",
            "  (linear_relu_stack): Sequential(\n",
            "    (0): Linear(in_features=784, out_features=512, bias=True)\n",
            "    (1): ReLU()\n",
            "    (2): Linear(in_features=512, out_features=512, bias=True)\n",
            "    (3): ReLU()\n",
            "    (4): Linear(in_features=512, out_features=10, bias=True)\n",
            "  )\n",
            ")\n",
            "\n",
            "\n",
            "Layer: linear_relu_stack.0.weight | Size: torch.Size([512, 784]) | Values : tensor([[-0.0225, -0.0109,  0.0305,  ...,  0.0150,  0.0148, -0.0103],\n",
            "        [-0.0203, -0.0259, -0.0215,  ...,  0.0183,  0.0292,  0.0217]],\n",
            "       grad_fn=<SliceBackward0>) \n",
            "\n",
            "Layer: linear_relu_stack.0.bias | Size: torch.Size([512]) | Values : tensor([-0.0295,  0.0225], grad_fn=<SliceBackward0>) \n",
            "\n",
            "Layer: linear_relu_stack.2.weight | Size: torch.Size([512, 512]) | Values : tensor([[ 0.0221,  0.0362, -0.0341,  ...,  0.0385, -0.0313, -0.0367],\n",
            "        [ 0.0268, -0.0213, -0.0396,  ...,  0.0200,  0.0423, -0.0284]],\n",
            "       grad_fn=<SliceBackward0>) \n",
            "\n",
            "Layer: linear_relu_stack.2.bias | Size: torch.Size([512]) | Values : tensor([-0.0118,  0.0180], grad_fn=<SliceBackward0>) \n",
            "\n",
            "Layer: linear_relu_stack.4.weight | Size: torch.Size([10, 512]) | Values : tensor([[-0.0296, -0.0175, -0.0167,  ..., -0.0433, -0.0046, -0.0272],\n",
            "        [-0.0212, -0.0136, -0.0112,  ...,  0.0175, -0.0326, -0.0296]],\n",
            "       grad_fn=<SliceBackward0>) \n",
            "\n",
            "Layer: linear_relu_stack.4.bias | Size: torch.Size([10]) | Values : tensor([ 0.0229, -0.0233], grad_fn=<SliceBackward0>) \n",
            "\n"
          ]
        }
      ]
    },
    {
      "cell_type": "markdown",
      "source": [
        "## Autograd"
      ],
      "metadata": {
        "id": "VIkgzp-ZEKtw"
      }
    },
    {
      "cell_type": "code",
      "source": [
        "x = torch.ones(5)  # input tensor\n",
        "y = torch.zeros(3)  # expected output\n",
        "w = torch.randn(5, 3, requires_grad=True)\n",
        "b = torch.randn(3, requires_grad=True)\n",
        "z = torch.matmul(x, w)+b\n",
        "loss = torch.nn.functional.binary_cross_entropy_with_logits(z, y)"
      ],
      "metadata": {
        "id": "RplYAtKdEMTw"
      },
      "execution_count": null,
      "outputs": []
    },
    {
      "cell_type": "code",
      "source": [
        "loss.backward()\n",
        "print(w.grad)\n",
        "print(b.grad)"
      ],
      "metadata": {
        "colab": {
          "base_uri": "https://localhost:8080/"
        },
        "id": "7u_-ey5jEQgF",
        "outputId": "2cddd72c-9f67-4c58-efe5-846b674ebfe2"
      },
      "execution_count": null,
      "outputs": [
        {
          "output_type": "stream",
          "name": "stdout",
          "text": [
            "tensor([[0.2551, 0.0084, 0.0318],\n",
            "        [0.2551, 0.0084, 0.0318],\n",
            "        [0.2551, 0.0084, 0.0318],\n",
            "        [0.2551, 0.0084, 0.0318],\n",
            "        [0.2551, 0.0084, 0.0318]])\n",
            "tensor([0.2551, 0.0084, 0.0318])\n"
          ]
        }
      ]
    },
    {
      "cell_type": "code",
      "source": [],
      "metadata": {
        "id": "LtRD3vp0ESDc"
      },
      "execution_count": null,
      "outputs": []
    },
    {
      "cell_type": "markdown",
      "source": [
        "## The model"
      ],
      "metadata": {
        "id": "TdsigP2jC7QY"
      }
    },
    {
      "cell_type": "code",
      "source": [
        "from torch import nn"
      ],
      "metadata": {
        "id": "TeIeJRCsC-Wp"
      },
      "execution_count": null,
      "outputs": []
    },
    {
      "cell_type": "code",
      "source": [
        "class NeuralNetwork(nn.Module):\n",
        "    def __init__(self):\n",
        "        super().__init__()\n",
        "        self.flatten = nn.Flatten()\n",
        "        self.linear_relu_stack = nn.Sequential(\n",
        "            nn.Linear(28*28, 512),\n",
        "            nn.ReLU(),\n",
        "            nn.Linear(512, 512),\n",
        "            nn.ReLU(),\n",
        "            nn.Linear(512, 10),\n",
        "        )\n",
        "    def forward(self, x):\n",
        "      x = self.flatten(x)\n",
        "      logits = self.linear_relu_stack(x)\n",
        "      return logits\n",
        "\n",
        "model = NeuralNetwork()"
      ],
      "metadata": {
        "id": "US4giUUxC0oF"
      },
      "execution_count": null,
      "outputs": []
    },
    {
      "cell_type": "code",
      "source": [
        "learning_rate = 1e-3\n",
        "batch_size = 64\n",
        "epochs = 5"
      ],
      "metadata": {
        "id": "ukX2ZZgLDCXG"
      },
      "execution_count": null,
      "outputs": []
    },
    {
      "cell_type": "code",
      "source": [
        "loss_fn = nn.CrossEntropyLoss()"
      ],
      "metadata": {
        "id": "KfSIXm0NEe9E"
      },
      "execution_count": null,
      "outputs": []
    },
    {
      "cell_type": "code",
      "source": [
        "optimizer = torch.optim.SGD(model.parameters(), lr=learning_rate)"
      ],
      "metadata": {
        "id": "WCuGR_GBEg-X"
      },
      "execution_count": null,
      "outputs": []
    },
    {
      "cell_type": "code",
      "source": [
        "def train_loop(dataloader, model, loss_fn, optimizer):\n",
        "    size = len(dataloader.dataset)\n",
        "    # Set the model to training mode - important for batch normalization and dropout layers\n",
        "    # Unnecessary in this situation but added for best practices\n",
        "    model.train()\n",
        "    for batch, (X, y) in enumerate(dataloader):\n",
        "        # Compute prediction and loss\n",
        "        pred = model(X)\n",
        "        loss = loss_fn(pred, y)\n",
        "\n",
        "        # Backpropagation\n",
        "        loss.backward()\n",
        "        optimizer.step()\n",
        "        optimizer.zero_grad()\n",
        "\n",
        "        if batch % 100 == 0:\n",
        "            loss, current = loss.item(), batch * batch_size + len(X)\n",
        "            print(f\"loss: {loss:>7f}  [{current:>5d}/{size:>5d}]\")\n",
        "\n",
        "\n",
        "def test_loop(dataloader, model, loss_fn):\n",
        "    # Set the model to evaluation mode - important for batch normalization and dropout layers\n",
        "    # Unnecessary in this situation but added for best practices\n",
        "    model.eval()\n",
        "    size = len(dataloader.dataset)\n",
        "    num_batches = len(dataloader)\n",
        "    test_loss, correct = 0, 0\n",
        "\n",
        "    # Evaluating the model with torch.no_grad() ensures that no gradients are computed during test mode\n",
        "    # also serves to reduce unnecessary gradient computations and memory usage for tensors with requires_grad=True\n",
        "    with torch.no_grad():\n",
        "        for X, y in dataloader:\n",
        "            pred = model(X)\n",
        "            test_loss += loss_fn(pred, y).item()\n",
        "            correct += (pred.argmax(1) == y).type(torch.float).sum().item()\n",
        "\n",
        "    test_loss /= num_batches\n",
        "    correct /= size\n",
        "    print(f\"Test Error: \\n Accuracy: {(100*correct):>0.1f}%, Avg loss: {test_loss:>8f} \\n\")"
      ],
      "metadata": {
        "id": "RlSuN7mjEjoo"
      },
      "execution_count": null,
      "outputs": []
    },
    {
      "cell_type": "code",
      "source": [
        "loss_fn = nn.CrossEntropyLoss()\n",
        "optimizer = torch.optim.SGD(model.parameters(), lr=learning_rate)\n",
        "\n",
        "epochs = 10\n",
        "for t in range(epochs):\n",
        "    print(f\"Epoch {t+1}\\n-------------------------------\")\n",
        "    train_loop(train_dataloader, model, loss_fn, optimizer)\n",
        "    test_loop(test_dataloader, model, loss_fn)\n",
        "print(\"Done!\")"
      ],
      "metadata": {
        "colab": {
          "base_uri": "https://localhost:8080/"
        },
        "id": "qI-1g--_EnoX",
        "outputId": "171044e5-e8f4-4317-ca03-5f7d3a87f5b1"
      },
      "execution_count": null,
      "outputs": [
        {
          "output_type": "stream",
          "name": "stdout",
          "text": [
            "Epoch 1\n",
            "-------------------------------\n",
            "loss: 2.323593  [   64/60000]\n",
            "loss: 2.296960  [ 6464/60000]\n",
            "loss: 2.279070  [12864/60000]\n",
            "loss: 2.275245  [19264/60000]\n",
            "loss: 2.245698  [25664/60000]\n",
            "loss: 2.252230  [32064/60000]\n",
            "loss: 2.232542  [38464/60000]\n",
            "loss: 2.201977  [44864/60000]\n",
            "loss: 2.202929  [51264/60000]\n",
            "loss: 2.188176  [57664/60000]\n",
            "Test Error: \n",
            " Accuracy: 33.1%, Avg loss: 2.174817 \n",
            "\n",
            "Epoch 2\n",
            "-------------------------------\n",
            "loss: 2.158831  [   64/60000]\n",
            "loss: 2.155658  [ 6464/60000]\n",
            "loss: 2.139838  [12864/60000]\n",
            "loss: 2.111062  [19264/60000]\n",
            "loss: 2.107307  [25664/60000]\n",
            "loss: 2.041135  [32064/60000]\n",
            "loss: 2.016181  [38464/60000]\n",
            "loss: 1.984555  [44864/60000]\n",
            "loss: 1.967388  [51264/60000]\n",
            "loss: 1.941741  [57664/60000]\n",
            "Test Error: \n",
            " Accuracy: 58.9%, Avg loss: 1.944779 \n",
            "\n",
            "Epoch 3\n",
            "-------------------------------\n",
            "loss: 1.926925  [   64/60000]\n",
            "loss: 1.897394  [ 6464/60000]\n",
            "loss: 1.892927  [12864/60000]\n",
            "loss: 1.860922  [19264/60000]\n",
            "loss: 1.802224  [25664/60000]\n",
            "loss: 1.755628  [32064/60000]\n",
            "loss: 1.773392  [38464/60000]\n",
            "loss: 1.692979  [44864/60000]\n",
            "loss: 1.623478  [51264/60000]\n",
            "loss: 1.569814  [57664/60000]\n",
            "Test Error: \n",
            " Accuracy: 62.0%, Avg loss: 1.579849 \n",
            "\n",
            "Epoch 4\n",
            "-------------------------------\n",
            "loss: 1.686226  [   64/60000]\n",
            "loss: 1.557369  [ 6464/60000]\n",
            "loss: 1.483089  [12864/60000]\n",
            "loss: 1.402190  [19264/60000]\n",
            "loss: 1.425810  [25664/60000]\n",
            "loss: 1.455138  [32064/60000]\n",
            "loss: 1.354150  [38464/60000]\n",
            "loss: 1.402880  [44864/60000]\n",
            "loss: 1.336902  [51264/60000]\n",
            "loss: 1.324182  [57664/60000]\n",
            "Test Error: \n",
            " Accuracy: 63.6%, Avg loss: 1.280024 \n",
            "\n",
            "Epoch 5\n",
            "-------------------------------\n",
            "loss: 1.197915  [   64/60000]\n",
            "loss: 1.317795  [ 6464/60000]\n",
            "loss: 1.306323  [12864/60000]\n",
            "loss: 1.289588  [19264/60000]\n",
            "loss: 1.270371  [25664/60000]\n",
            "loss: 1.165438  [32064/60000]\n",
            "loss: 1.105442  [38464/60000]\n",
            "loss: 1.067817  [44864/60000]\n",
            "loss: 1.046488  [51264/60000]\n",
            "loss: 1.087591  [57664/60000]\n",
            "Test Error: \n",
            " Accuracy: 64.9%, Avg loss: 1.096550 \n",
            "\n",
            "Epoch 6\n",
            "-------------------------------\n",
            "loss: 1.027393  [   64/60000]\n",
            "loss: 1.112417  [ 6464/60000]\n",
            "loss: 1.012591  [12864/60000]\n",
            "loss: 0.982408  [19264/60000]\n",
            "loss: 0.961128  [25664/60000]\n",
            "loss: 1.114421  [32064/60000]\n",
            "loss: 1.032928  [38464/60000]\n",
            "loss: 0.949266  [44864/60000]\n",
            "loss: 1.123039  [51264/60000]\n",
            "loss: 0.953283  [57664/60000]\n",
            "Test Error: \n",
            " Accuracy: 65.8%, Avg loss: 0.982493 \n",
            "\n",
            "Epoch 7\n",
            "-------------------------------\n",
            "loss: 0.959067  [   64/60000]\n",
            "loss: 1.107298  [ 6464/60000]\n",
            "loss: 0.906684  [12864/60000]\n",
            "loss: 0.868130  [19264/60000]\n",
            "loss: 0.992097  [25664/60000]\n",
            "loss: 0.890143  [32064/60000]\n",
            "loss: 0.820853  [38464/60000]\n",
            "loss: 0.967523  [44864/60000]\n",
            "loss: 0.949936  [51264/60000]\n",
            "loss: 0.818813  [57664/60000]\n",
            "Test Error: \n",
            " Accuracy: 67.3%, Avg loss: 0.907474 \n",
            "\n",
            "Epoch 8\n",
            "-------------------------------\n",
            "loss: 0.907250  [   64/60000]\n",
            "loss: 0.973999  [ 6464/60000]\n",
            "loss: 0.984033  [12864/60000]\n",
            "loss: 0.721025  [19264/60000]\n",
            "loss: 0.837312  [25664/60000]\n",
            "loss: 0.809809  [32064/60000]\n",
            "loss: 0.914015  [38464/60000]\n",
            "loss: 0.851831  [44864/60000]\n",
            "loss: 0.912747  [51264/60000]\n",
            "loss: 0.949974  [57664/60000]\n",
            "Test Error: \n",
            " Accuracy: 68.5%, Avg loss: 0.853935 \n",
            "\n",
            "Epoch 9\n",
            "-------------------------------\n",
            "loss: 0.790829  [   64/60000]\n",
            "loss: 0.838836  [ 6464/60000]\n",
            "loss: 0.838452  [12864/60000]\n",
            "loss: 0.676857  [19264/60000]\n",
            "loss: 0.800742  [25664/60000]\n",
            "loss: 0.801935  [32064/60000]\n",
            "loss: 0.859566  [38464/60000]\n",
            "loss: 0.872373  [44864/60000]\n",
            "loss: 0.821321  [51264/60000]\n",
            "loss: 0.709750  [57664/60000]\n",
            "Test Error: \n",
            " Accuracy: 69.5%, Avg loss: 0.813825 \n",
            "\n",
            "Epoch 10\n",
            "-------------------------------\n",
            "loss: 0.787523  [   64/60000]\n",
            "loss: 0.686922  [ 6464/60000]\n",
            "loss: 0.719330  [12864/60000]\n",
            "loss: 0.859957  [19264/60000]\n",
            "loss: 0.748327  [25664/60000]\n",
            "loss: 0.839608  [32064/60000]\n",
            "loss: 0.896620  [38464/60000]\n",
            "loss: 0.690671  [44864/60000]\n",
            "loss: 0.731743  [51264/60000]\n",
            "loss: 0.955910  [57664/60000]\n",
            "Test Error: \n",
            " Accuracy: 71.1%, Avg loss: 0.782437 \n",
            "\n",
            "Done!\n"
          ]
        }
      ]
    }
  ],
  "metadata": {
    "kernelspec": {
      "display_name": "Python 3",
      "language": "python",
      "name": "python3"
    },
    "language_info": {
      "codemirror_mode": {
        "name": "ipython",
        "version": 3
      },
      "file_extension": ".py",
      "mimetype": "text/x-python",
      "name": "python",
      "nbconvert_exporter": "python",
      "pygments_lexer": "ipython3",
      "version": "3.10.12"
    },
    "colab": {
      "provenance": [],
      "include_colab_link": true
    }
  },
  "nbformat": 4,
  "nbformat_minor": 0
}