{
  "cells": [
    {
      "cell_type": "markdown",
      "metadata": {
        "id": "view-in-github",
        "colab_type": "text"
      },
      "source": [
        "<a href=\"https://colab.research.google.com/github/c17h20n4s/pytorch_1/blob/main/pytorch_initial_tutorial.ipynb\" target=\"_parent\"><img src=\"https://colab.research.google.com/assets/colab-badge.svg\" alt=\"Open In Colab\"/></a>"
      ]
    },
    {
      "cell_type": "code",
      "execution_count": 2,
      "metadata": {
        "id": "cj0WiBVD1_7V"
      },
      "outputs": [],
      "source": [
        "import torch\n",
        "from torch.utils.data import Dataset\n",
        "from torchvision import datasets\n",
        "from torchvision.transforms import ToTensor, Lambda\n",
        "from torch.utils.data import DataLoader\n",
        "from torchvision.io import decode_image\n",
        "from torch import nn\n",
        "from torchvision import datasets, transforms\n",
        "import matplotlib.pyplot as plt\n",
        "%matplotlib inline\n",
        "import numpy as np\n",
        "import os\n",
        "import pandas as pd"
      ]
    },
    {
      "cell_type": "code",
      "source": [
        "data = [[1,2], [3,4]]\n",
        "x = torch.tensor(data)\n",
        "print(x)"
      ],
      "metadata": {
        "colab": {
          "base_uri": "https://localhost:8080/"
        },
        "id": "os-37YnS25J2",
        "outputId": "f3c3e89c-75e0-401b-f09a-08ec5099bf20"
      },
      "execution_count": 3,
      "outputs": [
        {
          "output_type": "stream",
          "name": "stdout",
          "text": [
            "tensor([[1, 2],\n",
            "        [3, 4]])\n"
          ]
        }
      ]
    },
    {
      "cell_type": "code",
      "source": [
        "shape = (2,3 )\n",
        "rand_tensor = torch.rand(shape)\n",
        "ones_tensor = torch.ones(shape)\n",
        "zeros_tensor = torch.zeros(shape)"
      ],
      "metadata": {
        "id": "X_D7sDKs3HwO"
      },
      "execution_count": null,
      "outputs": []
    },
    {
      "cell_type": "code",
      "source": [
        "print(f\"\\n Random tensors: {rand_tensor}\")"
      ],
      "metadata": {
        "colab": {
          "base_uri": "https://localhost:8080/"
        },
        "id": "Ad0xAAeK38YU",
        "outputId": "57b80d04-7776-4068-ec93-3d4d32507a9f"
      },
      "execution_count": null,
      "outputs": [
        {
          "output_type": "stream",
          "name": "stdout",
          "text": [
            "\n",
            " Random tensors: tensor([[0.9089, 0.0642, 0.4198],\n",
            "        [0.0183, 0.6469, 0.4808]])\n"
          ]
        }
      ]
    },
    {
      "cell_type": "code",
      "source": [
        "print(f\"\\n Ones tensor: {ones_tensor}\")"
      ],
      "metadata": {
        "colab": {
          "base_uri": "https://localhost:8080/"
        },
        "id": "bPtrszYS4Dsj",
        "outputId": "394349a8-dab6-4baf-da16-271e6e18a13c"
      },
      "execution_count": null,
      "outputs": [
        {
          "output_type": "stream",
          "name": "stdout",
          "text": [
            "\n",
            " Ones tensor: tensor([[1., 1., 1.],\n",
            "        [1., 1., 1.]])\n"
          ]
        }
      ]
    },
    {
      "cell_type": "code",
      "source": [
        "print(f\"\\n Zeros tensor: {zeros_tensor}\")"
      ],
      "metadata": {
        "colab": {
          "base_uri": "https://localhost:8080/"
        },
        "id": "rzrZa1-Z4njo",
        "outputId": "41642a15-1482-4d31-e93c-28e1cd059b52"
      },
      "execution_count": null,
      "outputs": [
        {
          "output_type": "stream",
          "name": "stdout",
          "text": [
            "\n",
            " Zeros tensor: tensor([[0., 0., 0.],\n",
            "        [0., 0., 0.]])\n"
          ]
        }
      ]
    },
    {
      "cell_type": "markdown",
      "source": [
        "## Attributes of Tensor"
      ],
      "metadata": {
        "id": "YEsDndG95h4u"
      }
    },
    {
      "cell_type": "code",
      "source": [
        "tensor = torch.rand(3,5)"
      ],
      "metadata": {
        "id": "DbKFf6xH5re7"
      },
      "execution_count": null,
      "outputs": []
    },
    {
      "cell_type": "code",
      "source": [
        "print(tensor.shape)\n",
        "print(tensor.dtype)\n",
        "print(tensor.device)"
      ],
      "metadata": {
        "colab": {
          "base_uri": "https://localhost:8080/"
        },
        "id": "II1-4MRj5fQV",
        "outputId": "d8ad34a1-8b7e-4edf-a30e-82fd18f4a8e8"
      },
      "execution_count": null,
      "outputs": [
        {
          "output_type": "stream",
          "name": "stdout",
          "text": [
            "torch.Size([3, 5])\n",
            "torch.float32\n",
            "cpu\n"
          ]
        }
      ]
    },
    {
      "cell_type": "markdown",
      "source": [
        "## Operations on tensors (or should I say - manipulations of tensors)"
      ],
      "metadata": {
        "id": "EI5SQlCE6Cah"
      }
    },
    {
      "cell_type": "code",
      "source": [
        "if torch.accelerator.is_available():\n",
        "  tensor = tensor.to(torch.accelerator.current_accelerator())"
      ],
      "metadata": {
        "id": "xCk72m-w6ot8"
      },
      "execution_count": null,
      "outputs": []
    },
    {
      "cell_type": "markdown",
      "source": [
        "## Standart numpy slicing"
      ],
      "metadata": {
        "id": "SGV0QRBr7FrI"
      }
    },
    {
      "cell_type": "code",
      "source": [
        "tensor = torch.rand(3,4)\n",
        "tensor[0,3] = 5\n",
        "print(tensor)"
      ],
      "metadata": {
        "colab": {
          "base_uri": "https://localhost:8080/"
        },
        "id": "YiVzz-wG7ISE",
        "outputId": "d82fe8af-cdd4-4f34-fa4f-5fa5ae14bba3"
      },
      "execution_count": null,
      "outputs": [
        {
          "output_type": "stream",
          "name": "stdout",
          "text": [
            "tensor([[0.6852, 0.7241, 0.9130, 5.0000],\n",
            "        [0.0656, 0.5675, 0.5021, 0.6093],\n",
            "        [0.5422, 0.7525, 0.7748, 0.7824]])\n"
          ]
        }
      ]
    },
    {
      "cell_type": "markdown",
      "source": [
        "## Adding"
      ],
      "metadata": {
        "id": "cj3-NP2X8Eba"
      }
    },
    {
      "cell_type": "code",
      "source": [
        "t1 = torch.cat([tensor, tensor, tensor], dim=1)\n",
        "print(t1)"
      ],
      "metadata": {
        "colab": {
          "base_uri": "https://localhost:8080/"
        },
        "id": "dFi_Cm807NSf",
        "outputId": "3ef59675-e887-4161-914b-4bb705efe380"
      },
      "execution_count": null,
      "outputs": [
        {
          "output_type": "stream",
          "name": "stdout",
          "text": [
            "tensor([[0.6852, 0.7241, 0.9130, 5.0000, 0.6852, 0.7241, 0.9130, 5.0000, 0.6852,\n",
            "         0.7241, 0.9130, 5.0000],\n",
            "        [0.0656, 0.5675, 0.5021, 0.6093, 0.0656, 0.5675, 0.5021, 0.6093, 0.0656,\n",
            "         0.5675, 0.5021, 0.6093],\n",
            "        [0.5422, 0.7525, 0.7748, 0.7824, 0.5422, 0.7525, 0.7748, 0.7824, 0.5422,\n",
            "         0.7525, 0.7748, 0.7824]])\n"
          ]
        }
      ]
    },
    {
      "cell_type": "markdown",
      "source": [
        "## Matrix multiplications"
      ],
      "metadata": {
        "id": "9aKK2OzZ9AzY"
      }
    },
    {
      "cell_type": "code",
      "source": [
        "y1 = tensor @ tensor.T\n",
        "y2 = tensor.matmul(tensor.T)\n",
        "\n",
        "y3 = torch.rand_like(y1)\n",
        "torch.matmul(tensor, tensor.T, out=y3)"
      ],
      "metadata": {
        "colab": {
          "base_uri": "https://localhost:8080/"
        },
        "id": "CNQKBwwn8oLM",
        "outputId": "ea5b7ce8-12e1-4c99-aaae-640af4ac8283"
      },
      "execution_count": null,
      "outputs": [
        {
          "output_type": "execute_result",
          "data": {
            "text/plain": [
              "tensor([[26.8273,  3.9609,  5.5354],\n",
              "        [ 3.9609,  0.9497,  1.3283],\n",
              "        [ 5.5354,  1.3283,  2.0725]])"
            ]
          },
          "metadata": {},
          "execution_count": 62
        }
      ]
    },
    {
      "cell_type": "markdown",
      "source": [
        "## okaaaay, lets gooo"
      ],
      "metadata": {
        "id": "F4kYyhiz9mDD"
      }
    },
    {
      "cell_type": "markdown",
      "source": [
        "## MNIST Fashion dataset check"
      ],
      "metadata": {
        "id": "0UBF8K58_E04"
      }
    },
    {
      "cell_type": "code",
      "source": [
        "training_data = datasets.FashionMNIST(\n",
        "    root=\"data\",\n",
        "    train=True,\n",
        "    download=True,\n",
        "    transform=ToTensor()\n",
        ")\n"
      ],
      "metadata": {
        "colab": {
          "base_uri": "https://localhost:8080/"
        },
        "id": "cLlCyNnM9_T8",
        "outputId": "660ae99d-04ee-4eaa-9ef1-30c1b59298b8"
      },
      "execution_count": 4,
      "outputs": [
        {
          "output_type": "stream",
          "name": "stderr",
          "text": [
            "100%|██████████| 26.4M/26.4M [00:01<00:00, 13.2MB/s]\n",
            "100%|██████████| 29.5k/29.5k [00:00<00:00, 210kB/s]\n",
            "100%|██████████| 4.42M/4.42M [00:01<00:00, 3.91MB/s]\n",
            "100%|██████████| 5.15k/5.15k [00:00<00:00, 9.52MB/s]\n"
          ]
        }
      ]
    },
    {
      "cell_type": "code",
      "source": [
        "test_data = datasets.FashionMNIST(\n",
        "    root=\"data\",\n",
        "    train=False,\n",
        "    download=True,\n",
        "    transform=ToTensor()\n",
        ")"
      ],
      "metadata": {
        "id": "vKWVg3mk-slb"
      },
      "execution_count": 5,
      "outputs": []
    },
    {
      "cell_type": "markdown",
      "source": [
        "### Labeling"
      ],
      "metadata": {
        "id": "v22bfpeO_Crt"
      }
    },
    {
      "cell_type": "code",
      "source": [
        "labels_map = {\n",
        "    0: \"T-Shirt\",\n",
        "    1: \"Trouser\",\n",
        "    2: \"Pullover\",\n",
        "    3: \"Dress\",\n",
        "    4: \"Coat\",\n",
        "    5: \"Sandal\",\n",
        "    6: \"Shirt\",\n",
        "    7: \"Sneaker\",\n",
        "    8: \"Bag\",\n",
        "    9: \"Ankle Boot\",\n",
        "}\n",
        "\n",
        "figure= plt.figure(figsize=(8, 8))\n",
        "cols, rows = 3, 3\n",
        "for i in range(1, cols * rows + 1):\n",
        "    sample_idx = torch.randint(len(training_data), size=(1,)).item()\n",
        "    img, label = training_data[sample_idx]\n",
        "    figure.add_subplot(rows, cols, i)\n",
        "    plt.title(labels_map[label])\n",
        "    plt.axis(\"off\")\n",
        "    plt.imshow(img.squeeze(), cmap=\"gray\")\n",
        "plt.show()"
      ],
      "metadata": {
        "colab": {
          "base_uri": "https://localhost:8080/",
          "height": 675
        },
        "id": "i3hvflKd-8va",
        "outputId": "741a7e10-367f-40e2-c186-6927da2e92fb"
      },
      "execution_count": 6,
      "outputs": [
        {
          "output_type": "display_data",
          "data": {
            "text/plain": [
              "<Figure size 800x800 with 9 Axes>"
            ],
            "image/png": "[encoded data removed]"
          },
          "metadata": {}
        }
      ]
    },
    {
      "cell_type": "code",
      "source": [
        "class CustomImageDataset(Dataset):\n",
        "    def __init__(self, annotations_file, img_dir, transform=None, target_transform=None):\n",
        "        self.img_labels = pd.read_csv(annotations_file)\n",
        "        self.img_dir = img_dir\n",
        "        self.transform = transform\n",
        "        self.target_transform = target_transform\n",
        "\n",
        "    def __len__(self):\n",
        "        return len(self.img_labels)\n",
        "\n",
        "    def __getitem__(self, idx):\n",
        "        img_path = os.path.join(self.img_dir, self.img_labels.iloc[idx, 0])\n",
        "        image = decode_image(img_path)\n",
        "        label = self.img_labels.iloc[idx, 1]\n",
        "        if self.transform:\n",
        "            image = self.transform(image)\n",
        "        if self.target_transform:\n",
        "            label = self.target_transform(label)\n",
        "        return image, label"
      ],
      "metadata": {
        "id": "qg6Ut61bDP3U"
      },
      "execution_count": 7,
      "outputs": []
    },
    {
      "cell_type": "code",
      "source": [
        "def __init__(self, annotations_file, img_dir, transform=None, target_transform=None):\n",
        "    self.img_labels = pd.read_csv(annotations_file)\n",
        "    self.img_dir = img_dir\n",
        "    self.transform = transform\n",
        "    self.target_transform = target_transform"
      ],
      "metadata": {
        "id": "nO7vZiPBDSSf"
      },
      "execution_count": 8,
      "outputs": []
    },
    {
      "cell_type": "code",
      "source": [
        "def __getitem__(self, idx):\n",
        "    img_path = os.path.join(self.img_dir, self.img_labels.iloc[idx, 0])\n",
        "    image = decode_image(img_path)\n",
        "    label = self.img_labels.iloc[idx, 1]\n",
        "    if self.transform:\n",
        "        image = self.transform(image)\n",
        "    if self.target_transform:\n",
        "        label = self.target_transform(label)\n",
        "    return image, label"
      ],
      "metadata": {
        "id": "EtVMNHynDUmx"
      },
      "execution_count": 9,
      "outputs": []
    },
    {
      "cell_type": "code",
      "source": [
        "train_dataloader = DataLoader(training_data, batch_size=64, shuffle=True)\n",
        "test_dataloader = DataLoader(test_data, batch_size=64, shuffle=True)"
      ],
      "metadata": {
        "id": "Ffr_RqTACq9P"
      },
      "execution_count": 10,
      "outputs": []
    },
    {
      "cell_type": "code",
      "source": [
        "# Display image and label.\n",
        "train_features, train_labels = next(iter(train_dataloader))\n",
        "print(f\"Feature batch shape: {train_features.size()}\")\n",
        "print(f\"Labels batch shape: {train_labels.size()}\")\n",
        "img = train_features[0].squeeze()\n",
        "label = train_labels[0]\n",
        "plt.imshow(img, cmap=\"gray\")\n",
        "plt.show()\n",
        "print(f\"Label: {label}\")"
      ],
      "metadata": {
        "colab": {
          "base_uri": "https://localhost:8080/",
          "height": 484
        },
        "id": "be96hK2sDaXL",
        "outputId": "4d7da56c-794a-4cd9-bb10-84cddb93e1ba"
      },
      "execution_count": 11,
      "outputs": [
        {
          "output_type": "stream",
          "name": "stdout",
          "text": [
            "Feature batch shape: torch.Size([64, 1, 28, 28])\n",
            "Labels batch shape: torch.Size([64])\n"
          ]
        },
        {
          "output_type": "display_data",
          "data": {
            "text/plain": [
              "<Figure size 640x480 with 1 Axes>"
            ],
            "image/png": "[encoded data removed]"
          },
          "metadata": {}
        },
        {
          "output_type": "stream",
          "name": "stdout",
          "text": [
            "Label: 3\n"
          ]
        }
      ]
    },
    {
      "cell_type": "markdown",
      "source": [
        "## Transforms"
      ],
      "metadata": {
        "id": "sikmWHmzDehJ"
      }
    },
    {
      "cell_type": "code",
      "source": [
        "ds = datasets.FashionMNIST(\n",
        "    root=\"data\",\n",
        "    train=True,\n",
        "    download=True,\n",
        "    transform=ToTensor(),\n",
        "    target_transform=Lambda(lambda y: torch.zeros(10, dtype=torch.float).scatter_(0, torch.tensor(y), value=1))\n",
        ")"
      ],
      "metadata": {
        "id": "xkDdSp2YDgp4"
      },
      "execution_count": 12,
      "outputs": []
    },
    {
      "cell_type": "markdown",
      "source": [
        "## Building the model"
      ],
      "metadata": {
        "id": "M-r-KE2zDm34"
      }
    },
    {
      "cell_type": "code",
      "source": [
        "device = torch.accelerator.current_accelerator().type if torch.accelerator.is_available() else \"cpu\"\n",
        "print(f\"Using {device} device\")"
      ],
      "metadata": {
        "colab": {
          "base_uri": "https://localhost:8080/"
        },
        "id": "pt850c2XDpTl",
        "outputId": "3b1fad68-f6f1-4890-e311-0371b85ac205"
      },
      "execution_count": 13,
      "outputs": [
        {
          "output_type": "stream",
          "name": "stdout",
          "text": [
            "Using cpu device\n"
          ]
        }
      ]
    },
    {
      "cell_type": "code",
      "source": [
        "class NeuralNetwork(nn.Module):\n",
        "    def __init__(self):\n",
        "        super().__init__()\n",
        "        self.flatten = nn.Flatten()\n",
        "        self.linear_relu_stack = nn.Sequential(\n",
        "            nn.Linear(28*28, 512),\n",
        "            nn.ReLU(),\n",
        "            nn.Linear(512, 512),\n",
        "            nn.ReLU(),\n",
        "            nn.Linear(512, 10),\n",
        "        )\n",
        "\n",
        "    def forward(self, x):\n",
        "        x = self.flatten(x)\n",
        "        logits = self.linear_relu_stack(x)\n",
        "        return logits"
      ],
      "metadata": {
        "id": "-eUL_qoUDrmT"
      },
      "execution_count": 14,
      "outputs": []
    },
    {
      "cell_type": "code",
      "source": [
        "model = NeuralNetwork().to(device)\n",
        "print(model)"
      ],
      "metadata": {
        "colab": {
          "base_uri": "https://localhost:8080/"
        },
        "id": "IVfeWEi2DttP",
        "outputId": "dedb86c8-ea85-4735-c2cb-2f503b61dced"
      },
      "execution_count": 15,
      "outputs": [
        {
          "output_type": "stream",
          "name": "stdout",
          "text": [
            "NeuralNetwork(\n",
            "  (flatten): Flatten(start_dim=1, end_dim=-1)\n",
            "  (linear_relu_stack): Sequential(\n",
            "    (0): Linear(in_features=784, out_features=512, bias=True)\n",
            "    (1): ReLU()\n",
            "    (2): Linear(in_features=512, out_features=512, bias=True)\n",
            "    (3): ReLU()\n",
            "    (4): Linear(in_features=512, out_features=10, bias=True)\n",
            "  )\n",
            ")\n"
          ]
        }
      ]
    },
    {
      "cell_type": "code",
      "source": [
        "X = torch.rand(1, 28, 28, device=device)\n",
        "logits = model(X)\n",
        "pred_probab = nn.Softmax(dim=1)(logits)\n",
        "y_pred = pred_probab.argmax(1)\n",
        "print(f\"Predicted class: {y_pred}\")"
      ],
      "metadata": {
        "colab": {
          "base_uri": "https://localhost:8080/"
        },
        "id": "A6EgrzDrDxzK",
        "outputId": "6d373cf6-94ad-4f56-c2cd-4105e7bfc500"
      },
      "execution_count": 16,
      "outputs": [
        {
          "output_type": "stream",
          "name": "stdout",
          "text": [
            "Predicted class: tensor([7])\n"
          ]
        }
      ]
    },
    {
      "cell_type": "markdown",
      "source": [
        "### layers"
      ],
      "metadata": {
        "id": "t7efdV-MD0Jz"
      }
    },
    {
      "cell_type": "code",
      "source": [
        "input_image = torch.rand(3,28,28)\n",
        "print(input_image.size())"
      ],
      "metadata": {
        "colab": {
          "base_uri": "https://localhost:8080/"
        },
        "id": "E801F7ZdD2Gz",
        "outputId": "42359a6e-91fb-4b56-89c6-f9ac3c6f497f"
      },
      "execution_count": 17,
      "outputs": [
        {
          "output_type": "stream",
          "name": "stdout",
          "text": [
            "torch.Size([3, 28, 28])\n"
          ]
        }
      ]
    },
    {
      "cell_type": "code",
      "source": [
        "flatten = nn.Flatten()\n",
        "flat_image = flatten(input_image)\n",
        "print(flat_image.size())"
      ],
      "metadata": {
        "colab": {
          "base_uri": "https://localhost:8080/"
        },
        "id": "iUG1arcYD27o",
        "outputId": "084acc65-00a3-42aa-ab56-8b2ef21d893a"
      },
      "execution_count": 18,
      "outputs": [
        {
          "output_type": "stream",
          "name": "stdout",
          "text": [
            "torch.Size([3, 784])\n"
          ]
        }
      ]
    },
    {
      "cell_type": "code",
      "source": [
        "layer1 = nn.Linear(in_features=28*28, out_features=20)\n",
        "hidden1 = layer1(flat_image)\n",
        "print(hidden1.size())"
      ],
      "metadata": {
        "colab": {
          "base_uri": "https://localhost:8080/"
        },
        "id": "ZG5Pao8gD46n",
        "outputId": "d2e79831-1de6-4bfb-eca1-65089ecb6700"
      },
      "execution_count": 19,
      "outputs": [
        {
          "output_type": "stream",
          "name": "stdout",
          "text": [
            "torch.Size([3, 20])\n"
          ]
        }
      ]
    },
    {
      "cell_type": "code",
      "source": [
        "print(f\"Before ReLU: {hidden1}\\n\\n\")\n",
        "hidden1 = nn.ReLU()(hidden1)\n",
        "print(f\"After ReLU: {hidden1}\")"
      ],
      "metadata": {
        "colab": {
          "base_uri": "https://localhost:8080/"
        },
        "id": "9eHYphdOD75Y",
        "outputId": "aff91edf-927d-43ec-bcab-b957ee174e5b"
      },
      "execution_count": 20,
      "outputs": [
        {
          "output_type": "stream",
          "name": "stdout",
          "text": [
            "Before ReLU: tensor([[ 0.3427,  0.0349, -0.1861,  0.2042, -0.2147, -0.0070, -0.0382, -0.1999,\n",
            "          0.4710,  0.1188, -0.0326, -0.8533, -0.1749,  0.0205,  0.3941,  0.0124,\n",
            "         -0.0123, -0.5484,  0.5469, -0.2195],\n",
            "        [ 0.2494, -0.2674, -0.3506,  0.1923, -0.3511, -0.4343,  0.0756,  0.2020,\n",
            "          0.2089,  0.0153,  0.0643, -0.5122, -0.1849,  0.0783,  0.4350, -0.0185,\n",
            "          0.0793, -0.3973,  0.6709, -0.0356],\n",
            "        [ 0.3969, -0.1947, -0.1166, -0.1445, -0.3175, -0.1826, -0.0980,  0.0540,\n",
            "          0.2564, -0.0306,  0.1031, -0.4589,  0.0701,  0.3383,  0.1453, -0.1321,\n",
            "          0.2766, -0.1762,  0.3844,  0.0191]], grad_fn=<AddmmBackward0>)\n",
            "\n",
            "\n",
            "After ReLU: tensor([[0.3427, 0.0349, 0.0000, 0.2042, 0.0000, 0.0000, 0.0000, 0.0000, 0.4710,\n",
            "         0.1188, 0.0000, 0.0000, 0.0000, 0.0205, 0.3941, 0.0124, 0.0000, 0.0000,\n",
            "         0.5469, 0.0000],\n",
            "        [0.2494, 0.0000, 0.0000, 0.1923, 0.0000, 0.0000, 0.0756, 0.2020, 0.2089,\n",
            "         0.0153, 0.0643, 0.0000, 0.0000, 0.0783, 0.4350, 0.0000, 0.0793, 0.0000,\n",
            "         0.6709, 0.0000],\n",
            "        [0.3969, 0.0000, 0.0000, 0.0000, 0.0000, 0.0000, 0.0000, 0.0540, 0.2564,\n",
            "         0.0000, 0.1031, 0.0000, 0.0701, 0.3383, 0.1453, 0.0000, 0.2766, 0.0000,\n",
            "         0.3844, 0.0191]], grad_fn=<ReluBackward0>)\n"
          ]
        }
      ]
    },
    {
      "cell_type": "code",
      "source": [
        "seq_modules = nn.Sequential(\n",
        "    flatten,\n",
        "    layer1,\n",
        "    nn.ReLU(),\n",
        "    nn.Linear(20, 10)\n",
        ")\n",
        "input_image = torch.rand(3,28,28)\n",
        "logits = seq_modules(input_image)"
      ],
      "metadata": {
        "id": "MK0Z7VFYD-l-"
      },
      "execution_count": 21,
      "outputs": []
    },
    {
      "cell_type": "code",
      "source": [
        "softmax = nn.Softmax(dim=1)\n",
        "pred_probab = softmax(logits)"
      ],
      "metadata": {
        "id": "lzcwqFD5EBJM"
      },
      "execution_count": 22,
      "outputs": []
    },
    {
      "cell_type": "markdown",
      "source": [
        "### Model parameters"
      ],
      "metadata": {
        "id": "7GPnlI_SEDaZ"
      }
    },
    {
      "cell_type": "code",
      "source": [
        "print(f\"Model structure: {model}\\n\\n\")\n",
        "\n",
        "for name, param in model.named_parameters():\n",
        "    print(f\"Layer: {name} | Size: {param.size()} | Values : {param[:2]} \\n\")"
      ],
      "metadata": {
        "colab": {
          "base_uri": "https://localhost:8080/"
        },
        "id": "IT8Pc6zdEFe0",
        "outputId": "1afe35c6-0abd-4b5a-c64b-6bc24a6996ec"
      },
      "execution_count": 23,
      "outputs": [
        {
          "output_type": "stream",
          "name": "stdout",
          "text": [
            "Model structure: NeuralNetwork(\n",
            "  (flatten): Flatten(start_dim=1, end_dim=-1)\n",
            "  (linear_relu_stack): Sequential(\n",
            "    (0): Linear(in_features=784, out_features=512, bias=True)\n",
            "    (1): ReLU()\n",
            "    (2): Linear(in_features=512, out_features=512, bias=True)\n",
            "    (3): ReLU()\n",
            "    (4): Linear(in_features=512, out_features=10, bias=True)\n",
            "  )\n",
            ")\n",
            "\n",
            "\n",
            "Layer: linear_relu_stack.0.weight | Size: torch.Size([512, 784]) | Values : tensor([[ 0.0218, -0.0115,  0.0327,  ...,  0.0038,  0.0164,  0.0059],\n",
            "        [-0.0220,  0.0236,  0.0201,  ..., -0.0256, -0.0271, -0.0159]],\n",
            "       grad_fn=<SliceBackward0>) \n",
            "\n",
            "Layer: linear_relu_stack.0.bias | Size: torch.Size([512]) | Values : tensor([ 0.0126, -0.0208], grad_fn=<SliceBackward0>) \n",
            "\n",
            "Layer: linear_relu_stack.2.weight | Size: torch.Size([512, 512]) | Values : tensor([[ 0.0185,  0.0105, -0.0280,  ..., -0.0177,  0.0202, -0.0270],\n",
            "        [-0.0212, -0.0383, -0.0198,  ...,  0.0126, -0.0024, -0.0120]],\n",
            "       grad_fn=<SliceBackward0>) \n",
            "\n",
            "Layer: linear_relu_stack.2.bias | Size: torch.Size([512]) | Values : tensor([ 0.0284, -0.0430], grad_fn=<SliceBackward0>) \n",
            "\n",
            "Layer: linear_relu_stack.4.weight | Size: torch.Size([10, 512]) | Values : tensor([[ 0.0422,  0.0069, -0.0258,  ...,  0.0189,  0.0433,  0.0016],\n",
            "        [-0.0359, -0.0235,  0.0281,  ...,  0.0264,  0.0403,  0.0309]],\n",
            "       grad_fn=<SliceBackward0>) \n",
            "\n",
            "Layer: linear_relu_stack.4.bias | Size: torch.Size([10]) | Values : tensor([-0.0293, -0.0366], grad_fn=<SliceBackward0>) \n",
            "\n"
          ]
        }
      ]
    },
    {
      "cell_type": "markdown",
      "source": [
        "## Autograd"
      ],
      "metadata": {
        "id": "VIkgzp-ZEKtw"
      }
    },
    {
      "cell_type": "code",
      "source": [
        "x = torch.ones(5)  # input tensor\n",
        "y = torch.zeros(3)  # expected output\n",
        "w = torch.randn(5, 3, requires_grad=True)\n",
        "b = torch.randn(3, requires_grad=True)\n",
        "z = torch.matmul(x, w)+b\n",
        "loss = torch.nn.functional.binary_cross_entropy_with_logits(z, y)"
      ],
      "metadata": {
        "id": "RplYAtKdEMTw"
      },
      "execution_count": 24,
      "outputs": []
    },
    {
      "cell_type": "code",
      "source": [
        "loss.backward()\n",
        "print(w.grad)\n",
        "print(b.grad)"
      ],
      "metadata": {
        "colab": {
          "base_uri": "https://localhost:8080/"
        },
        "id": "7u_-ey5jEQgF",
        "outputId": "fea0e71f-b3a9-4068-ec24-1993b7d858b9"
      },
      "execution_count": 25,
      "outputs": [
        {
          "output_type": "stream",
          "name": "stdout",
          "text": [
            "tensor([[0.2140, 0.0731, 0.3193],\n",
            "        [0.2140, 0.0731, 0.3193],\n",
            "        [0.2140, 0.0731, 0.3193],\n",
            "        [0.2140, 0.0731, 0.3193],\n",
            "        [0.2140, 0.0731, 0.3193]])\n",
            "tensor([0.2140, 0.0731, 0.3193])\n"
          ]
        }
      ]
    },
    {
      "cell_type": "code",
      "source": [],
      "metadata": {
        "id": "LtRD3vp0ESDc"
      },
      "execution_count": null,
      "outputs": []
    },
    {
      "cell_type": "markdown",
      "source": [
        "## The model"
      ],
      "metadata": {
        "id": "TdsigP2jC7QY"
      }
    },
    {
      "cell_type": "code",
      "source": [
        "class NeuralNetwork(nn.Module):\n",
        "    def __init__(self):\n",
        "        super().__init__()\n",
        "        self.flatten = nn.Flatten()\n",
        "        self.linear_relu_stack = nn.Sequential(\n",
        "            nn.Linear(28*28, 512),\n",
        "            nn.ReLU(),\n",
        "            nn.Linear(512, 512),\n",
        "            nn.ReLU(),\n",
        "            nn.Linear(512, 10),\n",
        "        )\n",
        "    def forward(self, x):\n",
        "      x = self.flatten(x)\n",
        "      logits = self.linear_relu_stack(x)\n",
        "      return logits\n",
        "\n",
        "model = NeuralNetwork()"
      ],
      "metadata": {
        "id": "US4giUUxC0oF"
      },
      "execution_count": 26,
      "outputs": []
    },
    {
      "cell_type": "code",
      "source": [
        "learning_rate = 1e-3\n",
        "batch_size = 64\n",
        "epochs = 5"
      ],
      "metadata": {
        "id": "ukX2ZZgLDCXG"
      },
      "execution_count": 27,
      "outputs": []
    },
    {
      "cell_type": "code",
      "source": [
        "loss_fn = nn.CrossEntropyLoss()"
      ],
      "metadata": {
        "id": "KfSIXm0NEe9E"
      },
      "execution_count": 28,
      "outputs": []
    },
    {
      "cell_type": "code",
      "source": [
        "optimizer = torch.optim.SGD(model.parameters(), lr=learning_rate)"
      ],
      "metadata": {
        "id": "WCuGR_GBEg-X"
      },
      "execution_count": 29,
      "outputs": []
    },
    {
      "cell_type": "code",
      "source": [
        "def train_loop(dataloader, model, loss_fn, optimizer):\n",
        "    size = len(dataloader.dataset)\n",
        "    # Set the model to training mode - important for batch normalization and dropout layers\n",
        "    # Unnecessary in this situation but added for best practices\n",
        "    model.train()\n",
        "    for batch, (X, y) in enumerate(dataloader):\n",
        "        # Compute prediction and loss\n",
        "        pred = model(X)\n",
        "        loss = loss_fn(pred, y)\n",
        "\n",
        "        # Backpropagation\n",
        "        loss.backward()\n",
        "        optimizer.step()\n",
        "        optimizer.zero_grad()\n",
        "\n",
        "        if batch % 100 == 0:\n",
        "            loss, current = loss.item(), batch * batch_size + len(X)\n",
        "            print(f\"loss: {loss:>7f}  [{current:>5d}/{size:>5d}]\")\n",
        "\n",
        "\n",
        "def test_loop(dataloader, model, loss_fn):\n",
        "    # Set the model to evaluation mode - important for batch normalization and dropout layers\n",
        "    # Unnecessary in this situation but added for best practices\n",
        "    model.eval()\n",
        "    size = len(dataloader.dataset)\n",
        "    num_batches = len(dataloader)\n",
        "    test_loss, correct = 0, 0\n",
        "\n",
        "    # Evaluating the model with torch.no_grad() ensures that no gradients are computed during test mode\n",
        "    # also serves to reduce unnecessary gradient computations and memory usage for tensors with requires_grad=True\n",
        "    with torch.no_grad():\n",
        "        for X, y in dataloader:\n",
        "            pred = model(X)\n",
        "            test_loss += loss_fn(pred, y).item()\n",
        "            correct += (pred.argmax(1) == y).type(torch.float).sum().item()\n",
        "\n",
        "    test_loss /= num_batches\n",
        "    correct /= size\n",
        "    print(f\"Test Error: \\n Accuracy: {(100*correct):>0.1f}%, Avg loss: {test_loss:>8f} \\n\")"
      ],
      "metadata": {
        "id": "RlSuN7mjEjoo"
      },
      "execution_count": 30,
      "outputs": []
    },
    {
      "cell_type": "code",
      "source": [
        "loss_fn = nn.CrossEntropyLoss()\n",
        "optimizer = torch.optim.SGD(model.parameters(), lr=learning_rate)\n",
        "\n",
        "epochs = 10\n",
        "for t in range(epochs):\n",
        "    print(f\"Epoch {t+1}\\n-------------------------------\")\n",
        "    train_loop(train_dataloader, model, loss_fn, optimizer)\n",
        "    test_loop(test_dataloader, model, loss_fn)\n",
        "print(\"Done!\")"
      ],
      "metadata": {
        "colab": {
          "base_uri": "https://localhost:8080/"
        },
        "id": "qI-1g--_EnoX",
        "outputId": "ded27893-f8d9-48cb-a08e-8a883695b82b"
      },
      "execution_count": 31,
      "outputs": [
        {
          "output_type": "stream",
          "name": "stdout",
          "text": [
            "Epoch 1\n",
            "-------------------------------\n",
            "loss: 2.305796  [   64/60000]\n",
            "loss: 2.287159  [ 6464/60000]\n",
            "loss: 2.274891  [12864/60000]\n",
            "loss: 2.262826  [19264/60000]\n",
            "loss: 2.262283  [25664/60000]\n",
            "loss: 2.228669  [32064/60000]\n",
            "loss: 2.225914  [38464/60000]\n",
            "loss: 2.197576  [44864/60000]\n",
            "loss: 2.173761  [51264/60000]\n",
            "loss: 2.172648  [57664/60000]\n",
            "Test Error: \n",
            " Accuracy: 42.5%, Avg loss: 2.155917 \n",
            "\n",
            "Epoch 2\n",
            "-------------------------------\n",
            "loss: 2.146791  [   64/60000]\n",
            "loss: 2.123854  [ 6464/60000]\n",
            "loss: 2.102149  [12864/60000]\n",
            "loss: 2.093043  [19264/60000]\n",
            "loss: 2.035789  [25664/60000]\n",
            "loss: 2.038167  [32064/60000]\n",
            "loss: 1.996344  [38464/60000]\n",
            "loss: 1.926425  [44864/60000]\n",
            "loss: 1.873764  [51264/60000]\n",
            "loss: 1.889866  [57664/60000]\n",
            "Test Error: \n",
            " Accuracy: 53.4%, Avg loss: 1.869082 \n",
            "\n",
            "Epoch 3\n",
            "-------------------------------\n",
            "loss: 1.859622  [   64/60000]\n",
            "loss: 1.784858  [ 6464/60000]\n",
            "loss: 1.781689  [12864/60000]\n",
            "loss: 1.775930  [19264/60000]\n",
            "loss: 1.708425  [25664/60000]\n",
            "loss: 1.598848  [32064/60000]\n",
            "loss: 1.581745  [38464/60000]\n",
            "loss: 1.657205  [44864/60000]\n",
            "loss: 1.492525  [51264/60000]\n",
            "loss: 1.463068  [57664/60000]\n",
            "Test Error: \n",
            " Accuracy: 60.9%, Avg loss: 1.504534 \n",
            "\n",
            "Epoch 4\n",
            "-------------------------------\n",
            "loss: 1.447080  [   64/60000]\n",
            "loss: 1.453575  [ 6464/60000]\n",
            "loss: 1.427713  [12864/60000]\n",
            "loss: 1.385250  [19264/60000]\n",
            "loss: 1.409660  [25664/60000]\n",
            "loss: 1.325735  [32064/60000]\n",
            "loss: 1.423745  [38464/60000]\n",
            "loss: 1.362436  [44864/60000]\n",
            "loss: 1.264584  [51264/60000]\n",
            "loss: 1.202622  [57664/60000]\n",
            "Test Error: \n",
            " Accuracy: 63.2%, Avg loss: 1.248257 \n",
            "\n",
            "Epoch 5\n",
            "-------------------------------\n",
            "loss: 1.270764  [   64/60000]\n",
            "loss: 1.192309  [ 6464/60000]\n",
            "loss: 1.206242  [12864/60000]\n",
            "loss: 1.296547  [19264/60000]\n",
            "loss: 1.220515  [25664/60000]\n",
            "loss: 1.202362  [32064/60000]\n",
            "loss: 1.032922  [38464/60000]\n",
            "loss: 1.022778  [44864/60000]\n",
            "loss: 1.061717  [51264/60000]\n",
            "loss: 0.911941  [57664/60000]\n",
            "Test Error: \n",
            " Accuracy: 64.9%, Avg loss: 1.088685 \n",
            "\n",
            "Epoch 6\n",
            "-------------------------------\n",
            "loss: 1.085500  [   64/60000]\n",
            "loss: 1.154986  [ 6464/60000]\n",
            "loss: 1.143788  [12864/60000]\n",
            "loss: 1.063596  [19264/60000]\n",
            "loss: 0.947909  [25664/60000]\n",
            "loss: 1.062384  [32064/60000]\n",
            "loss: 0.822432  [38464/60000]\n",
            "loss: 1.038193  [44864/60000]\n",
            "loss: 0.978957  [51264/60000]\n",
            "loss: 1.017531  [57664/60000]\n",
            "Test Error: \n",
            " Accuracy: 65.8%, Avg loss: 0.983379 \n",
            "\n",
            "Epoch 7\n",
            "-------------------------------\n",
            "loss: 1.036504  [   64/60000]\n",
            "loss: 0.965902  [ 6464/60000]\n",
            "loss: 0.939485  [12864/60000]\n",
            "loss: 0.956633  [19264/60000]\n",
            "loss: 0.866298  [25664/60000]\n",
            "loss: 0.836661  [32064/60000]\n",
            "loss: 0.902268  [38464/60000]\n",
            "loss: 0.896498  [44864/60000]\n",
            "loss: 0.857876  [51264/60000]\n",
            "loss: 0.986226  [57664/60000]\n",
            "Test Error: \n",
            " Accuracy: 67.3%, Avg loss: 0.909450 \n",
            "\n",
            "Epoch 8\n",
            "-------------------------------\n",
            "loss: 0.899455  [   64/60000]\n",
            "loss: 0.843590  [ 6464/60000]\n",
            "loss: 0.991783  [12864/60000]\n",
            "loss: 1.027138  [19264/60000]\n",
            "loss: 1.015455  [25664/60000]\n",
            "loss: 0.798342  [32064/60000]\n",
            "loss: 0.696178  [38464/60000]\n",
            "loss: 0.901325  [44864/60000]\n",
            "loss: 0.923302  [51264/60000]\n",
            "loss: 0.920540  [57664/60000]\n",
            "Test Error: \n",
            " Accuracy: 68.7%, Avg loss: 0.856264 \n",
            "\n",
            "Epoch 9\n",
            "-------------------------------\n",
            "loss: 0.748709  [   64/60000]\n",
            "loss: 0.911429  [ 6464/60000]\n",
            "loss: 0.663624  [12864/60000]\n",
            "loss: 0.871586  [19264/60000]\n",
            "loss: 0.745931  [25664/60000]\n",
            "loss: 0.675824  [32064/60000]\n",
            "loss: 0.825933  [38464/60000]\n",
            "loss: 0.993281  [44864/60000]\n",
            "loss: 0.738928  [51264/60000]\n",
            "loss: 0.884555  [57664/60000]\n",
            "Test Error: \n",
            " Accuracy: 69.8%, Avg loss: 0.817805 \n",
            "\n",
            "Epoch 10\n",
            "-------------------------------\n",
            "loss: 0.694162  [   64/60000]\n",
            "loss: 0.789229  [ 6464/60000]\n",
            "loss: 0.671744  [12864/60000]\n",
            "loss: 0.975740  [19264/60000]\n",
            "loss: 0.791610  [25664/60000]\n",
            "loss: 0.976288  [32064/60000]\n",
            "loss: 0.752294  [38464/60000]\n",
            "loss: 0.723745  [44864/60000]\n",
            "loss: 0.610974  [51264/60000]\n",
            "loss: 0.779935  [57664/60000]\n",
            "Test Error: \n",
            " Accuracy: 71.3%, Avg loss: 0.783697 \n",
            "\n",
            "Done!\n"
          ]
        }
      ]
    }
  ],
  "metadata": {
    "kernelspec": {
      "display_name": "Python 3",
      "language": "python",
      "name": "python3"
    },
    "language_info": {
      "codemirror_mode": {
        "name": "ipython",
        "version": 3
      },
      "file_extension": ".py",
      "mimetype": "text/x-python",
      "name": "python",
      "nbconvert_exporter": "python",
      "pygments_lexer": "ipython3",
      "version": "3.10.12"
    },
    "colab": {
      "provenance": [],
      "include_colab_link": true
    }
  },
  "nbformat": 4,
  "nbformat_minor": 0
}